{
  "nbformat": 4,
  "nbformat_minor": 0,
  "metadata": {
    "colab": {
      "name": "Proyecto Final - Reporte",
      "provenance": [],
      "authorship_tag": "ABX9TyNte1RrdVGaDxdNL2vuG4oW",
      "include_colab_link": true
    },
    "kernelspec": {
      "name": "python3",
      "display_name": "Python 3"
    },
    "language_info": {
      "name": "python"
    }
  },
  "cells": [
    {
      "cell_type": "markdown",
      "metadata": {
        "id": "view-in-github",
        "colab_type": "text"
      },
      "source": [
        "<a href=\"https://colab.research.google.com/github/Ditager55/Proyecto-Final---Data-3/blob/main/Proyecto_Final_Reporte.ipynb\" target=\"_parent\"><img src=\"https://colab.research.google.com/assets/colab-badge.svg\" alt=\"Open In Colab\"/></a>"
      ]
    },
    {
      "cell_type": "markdown",
      "source": [
        "# Capstone Project - La Batalla de los Vecindarios (Week 2)\n",
        "**Aplicando Data Science Capstone by IBM/Coursera**"
      ],
      "metadata": {
        "id": "BF4rU1HjV_dC"
      }
    },
    {
      "cell_type": "markdown",
      "source": [
        "# **PLANTEAMIENTO DEL PROBLEMA**"
      ],
      "metadata": {
        "id": "OmxTC8vVWKWx"
      }
    },
    {
      "cell_type": "markdown",
      "source": [
        "# **Introducción**"
      ],
      "metadata": {
        "id": "eUNxblIEWOCu"
      }
    },
    {
      "cell_type": "markdown",
      "source": [
        "Debido al incremento de la demanda de departamentos en Toronto, por la migración, crecimiento poblacional e independización de jovenes canadiences. Las personas se han visto en la obligación de buscar un lugar donde vivir acorde a sus ingresos y necesidades. Se debe tener en cuenta que los departamentos en esta ciudad varian en precio según su ubicación, cercanía a transporte, cercarnía al areopuerto, centros comerciales y principales vias de acceso. Además, debemos tener en cuenta que Tornto cuenta con 3 areopuertos ubicados en puntos estratégicos de la ciudad. Por eso se plantea el siguiente problema comercial."
      ],
      "metadata": {
        "id": "Qsw3_0xBWQ-5"
      }
    },
    {
      "cell_type": "markdown",
      "source": [
        "# **Problema Comercial**"
      ],
      "metadata": {
        "id": "htvMvnQ-WUCf"
      }
    },
    {
      "cell_type": "markdown",
      "source": [
        "Los nuevos residentes y residentes actuales que en el futuro deseen trasladarse a un lugar más tranquilo que la ciudad tienen para elequipo de ciencia de datos la siguiente interrogante: **¿Cuáles son los mejores distritos para vivir en la ciudad de Toronto?**"
      ],
      "metadata": {
        "id": "rnkCAdt0WXXV"
      }
    },
    {
      "cell_type": "markdown",
      "source": [
        "# **Objetivo**"
      ],
      "metadata": {
        "id": "VHQbS88uWanu"
      }
    },
    {
      "cell_type": "markdown",
      "source": [
        "El objetivo principal de la presente investigación es identificar los mejores condominios para que quienes estén interesados logren comprar una propiedad adecuada a sus necesidades, para esto analizaremos los siguientes factores: \n",
        "\n",
        "\n",
        "*   Precio del departamento\n",
        "*   Seguridad de la zona\n",
        "\n",
        "*   Si las zonas comerciales están cerca\n",
        "*   Si hay colegios, hospitales cercanos"
      ],
      "metadata": {
        "id": "8sE6iPWvWeLe"
      }
    },
    {
      "cell_type": "markdown",
      "source": [
        "# **Metodologia**"
      ],
      "metadata": {
        "id": "F2mwHVnlWhjo"
      }
    },
    {
      "cell_type": "markdown",
      "source": [
        "1.   Con los datos de Foursquare de Toronto se identificarán los distritos que existen en cada zona etiquetada por el código postal.\n",
        "\n",
        "2.   Se podran observar todos los distritos, para buscar departamentos y colocarlos en un tabla, con las caracteristicas que contiene.\n",
        "3.   Se identificarán todos los departamentos disponibles por colores según distritos.\n",
        "4.   Finalmente, se seleccionara los departamentos que cumplan con la mayoria\n",
        "de los criterios .\n"
      ],
      "metadata": {
        "id": "fBfIZ9d4Wkub"
      }
    },
    {
      "cell_type": "markdown",
      "source": [
        "# **Datos**\n"
      ],
      "metadata": {
        "id": "GhfSxsINWoDn"
      }
    },
    {
      "cell_type": "markdown",
      "source": [
        "Lo datos que se usarán en el presentte proyecto han sido brindados por Foursquare, por todo el repositorio de locales con su ubicación que permiten determinar la conveniencia geográfica de la puesta en marcha de buscar departamentos de una determinada zona.\n",
        "Además, se han utilizado fuentes confiables de información para guiar la bpusqueda de datos útiles para realizar la parte de resultados y discusión.\n",
        " \n",
        "Link: https://en.wikipedia.org/wiki/List_of_postal_codes_of_Canada:_M"
      ],
      "metadata": {
        "id": "vKY3Ys21WrT0"
      }
    },
    {
      "cell_type": "markdown",
      "source": [
        "# **Nootebok para Proyecto Final - Análisis de Datos**"
      ],
      "metadata": {
        "id": "_DEk4RZsWuvD"
      }
    },
    {
      "cell_type": "markdown",
      "source": [
        "- Se importan las librerías adecuadas para iniciar el analisis."
      ],
      "metadata": {
        "id": "MpXHFGhDW1MW"
      }
    },
    {
      "cell_type": "markdown",
      "source": [
        "- Se importan los codigos postales desde el link de Wikipedia proporcionado por la platafroma, debido a problemas con Foursquare."
      ],
      "metadata": {
        "id": "5_TIWydxW8xq"
      }
    },
    {
      "cell_type": "markdown",
      "source": [
        "- Se genera una tabla que contiene los codigos postales, el distrito al que pertenecen y los vecindarios correspondientes para identificarlos dentro del mapa de ciudad que se visualizará más adelante."
      ],
      "metadata": {
        "id": "a4HLcusUW9t1"
      }
    },
    {
      "cell_type": "markdown",
      "source": [
        "- Se muestra los 11 primeros registros de codigos postales, distritos y vecindarios que serviran a los futuros compradores para elegir su residencia ideal."
      ],
      "metadata": {
        "id": "Cdhi4wcwXAms"
      }
    },
    {
      "cell_type": "markdown",
      "source": [
        "- Con la función \"geo\" obtendremos las cordenadas de latitud y longitud de los distritos por codigo postal. Se usa la función head para visualizar la tabla."
      ],
      "metadata": {
        "id": "9qpd7Ov_XDWP"
      }
    },
    {
      "cell_type": "markdown",
      "source": [
        "- Se aplica la función merge para trabajar los codigos postales y coordenadas de los vecindarios/condominios y junto a la función head, se visualizan los 5 primeros registros. "
      ],
      "metadata": {
        "id": "RjV8IBc2XGh5"
      }
    },
    {
      "cell_type": "markdown",
      "source": [
        "- Con la función \"groupby\" y \"count\" se agrupan los condominios según su distrito al que pertenecen y se contabilizan para etiquetarlos en el mapa de la ciudad líneas más abajo. "
      ],
      "metadata": {
        "id": "OJGIaARDXKUS"
      }
    },
    {
      "cell_type": "markdown",
      "source": [
        "- Se crea el data frame toronto donde las columnas son el codigo postal, el distrito, el condominio, la latitud y la longitud que son necesarias para crear un mapa donde se identifiquen las propiedades disponibles para analizar."
      ],
      "metadata": {
        "id": "D92qCn2qXOa5"
      }
    },
    {
      "cell_type": "markdown",
      "source": [
        "- Se delimitan las coordenadas de la ciudad de Toronto..."
      ],
      "metadata": {
        "id": "GvsGm70hXR0m"
      }
    },
    {
      "cell_type": "markdown",
      "source": [
        "- Se importa la libreria \"folium\""
      ],
      "metadata": {
        "id": "Te5dTAquXcms"
      }
    },
    {
      "cell_type": "markdown",
      "source": [
        "- Aplicando la función \"map\" de la libreria \"folium\" y usando la latitud y longitud de la ciudad de Toronto y las ubicaciones de los condominión, se realiza un mapa a escala de 10.5.\n",
        "- Además, mediante un circulo de color diferenciado se etiquetará los condominios disponibles para venta futura, según el distrito donde se encuentre. "
      ],
      "metadata": {
        "id": "eAd1XYmKXgKX"
      }
    },
    {
      "cell_type": "markdown",
      "source": [
        "# **Conclusiones/Discusion**"
      ],
      "metadata": {
        "id": "Zw6Re9h8Xm_C"
      }
    },
    {
      "cell_type": "markdown",
      "source": [
        "**Conclusiones**\n",
        "1. Existen 15 distritos en Toronto donde actualmente tienen disponibles condominios con departamentos a la venta. \n",
        "2. Para las personas que buscan un departamento cerca al mar existen cuatro distritos disponibles para comprar cerca al centro de Toronto: Scarborough, East Toronto,  Downtown Toronto, West Toronto y Etobicoke - New Toronto. Serán sus necesidades particulares que los hagan decidir dónde comprar su nueva residencia. Por ejemplo: Si trabajan en el centro financiero el Downtown de Toronto es ideal para vivir, aunque es un lugar de precio elevado. Por otro lado, si tu opción de residencia es una alejada de la ciudad, pero estar cerca a las principales arterias de acceso a la ciudad lo tuyo será North York - Lawrence Manor, Lawrence Heights. \n",
        "\n",
        "**Discusión**\n",
        "1. Hubiese sido ideal tener un registro del nivel de delincuencia de cada zona para segmentarlas mejor y discriminar entre distritos y condominios.\n",
        "2. La información solo nos da una información parcial de qué puede buscar el futuro residente en Toronto pues no tenemos información de las familias o sus caracteristicas para hacer conjeturas más profundas."
      ],
      "metadata": {
        "id": "_SAN-5G_XsfN"
      }
    },
    {
      "cell_type": "markdown",
      "source": [
        "#**Resultados**"
      ],
      "metadata": {
        "id": "vJ_qaNfiX6Uv"
      }
    },
    {
      "cell_type": "markdown",
      "source": [
        "- Se logró identificar los condominios segmentados por distritos de la ciudad de Toronto, esto cumplió con el objetivo principal de la investigación presentada. \n",
        "- Se utilizaron librerías proporcionadas por el curso de Data Science y se obtuvieron resultados favorables en la aplicación de códigos específicos. "
      ],
      "metadata": {
        "id": "Y8JYOnzTX7Jr"
      }
    }
  ]
}